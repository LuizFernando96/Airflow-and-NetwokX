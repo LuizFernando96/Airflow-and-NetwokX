{
 "cells": [
  {
   "cell_type": "markdown",
   "metadata": {},
   "source": [
    "Problema: Identificar Usuários Mais Influentes em uma Rede Social\n",
    "\n",
    "Suponhamos que você tenha dados de conexões entre usuários em uma rede social e deseja identificar os usuários mais influentes com base na centralidade de grau. A centralidade de grau de um nó é uma medida de quantas conexões ele possui na rede."
   ]
  },
  {
   "cell_type": "code",
   "execution_count": null,
   "metadata": {},
   "outputs": [],
   "source": [
    "import networkx as nx\n",
    "import matplotlib.pyplot as plt\n",
    "\n",
    "# Criando um grafo direcionado representando conexões de amizade\n",
    "G = nx.DiGraph()\n",
    "\n",
    "# Adicionando conexões de amizade\n",
    "G.add_edges_from([(1, 2), (2, 3), (3, 1), (4, 1), (4, 2), (4, 3), (5, 1)])\n",
    "\n",
    "# Visualizando o grafo\n",
    "nx.draw(G, with_labels=True, font_weight='bold')\n",
    "plt.show()\n",
    "\n",
    "# Calculando a centralidade de grau\n",
    "degree_centrality = nx.degree_centrality(G)\n",
    "\n",
    "# Identificando o usuário mais influente\n",
    "usuario_mais_influente = max(degree_centrality, key=degree_centrality.get)\n",
    "\n",
    "print(f\"Usuário mais influente: {usuario_mais_influente} com centralidade de grau {degree_centrality[usuario_mais_influente]:.2f}\")\n"
   ]
  },
  {
   "cell_type": "markdown",
   "metadata": {},
   "source": [
    "Neste exemplo:\n",
    "\n",
    "O Grafo: É construído para representar conexões de amizade entre usuários. Os nós representam usuários e as arestas representam conexões de amizade.\n",
    "\n",
    "Visualização Gráfica: A função nx.draw é usada para criar uma representação visual do grafo, facilitando a compreensão da estrutura da rede.\n",
    "\n",
    "Centralidade de Grau: A função nx.degree_centrality calcula a centralidade de grau para cada nó na rede.\n",
    "\n",
    "Identificação do Usuário Mais Influente: O usuário mais influente é identificado com base na maior centralidade de grau."
   ]
  }
 ],
 "metadata": {
  "kernelspec": {
   "display_name": ".venv",
   "language": "python",
   "name": "python3"
  },
  "language_info": {
   "codemirror_mode": {
    "name": "ipython",
    "version": 3
   },
   "file_extension": ".py",
   "mimetype": "text/x-python",
   "name": "python",
   "nbconvert_exporter": "python",
   "pygments_lexer": "ipython3",
   "version": "3.11.4"
  }
 },
 "nbformat": 4,
 "nbformat_minor": 2
}
